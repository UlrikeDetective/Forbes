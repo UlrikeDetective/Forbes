{
 "cells": [
  {
   "cell_type": "markdown",
   "metadata": {},
   "source": [
    "python3 -m venv forbes_env\n",
    "source forbes_env/bin/activate\n",
    "\n",
    "pip install pandas openpyxl\n",
    "\n",
    "python ...py"
   ]
  },
  {
   "cell_type": "code",
   "execution_count": 10,
   "metadata": {},
   "outputs": [],
   "source": [
    "import pandas as pd\n",
    "import os"
   ]
  },
  {
   "cell_type": "code",
   "execution_count": 13,
   "metadata": {},
   "outputs": [
    {
     "name": "stdout",
     "output_type": "stream",
     "text": [
      "Excel file path: /Forbes/Forbes/forbes_raw_data/forbes_list_sql.xlsx\n",
      "Output directory: output_csvs\n",
      "Output directory 'output_csvs' is ready.\n",
      "Excel file '/Forbes/Forbes/forbes_raw_data/forbes_list_sql.xlsx' does not exist.\n"
     ]
    }
   ],
   "source": [
    "def convert_excel_to_csv(excel_file, output_dir):\n",
    "    try:\n",
    "        # Ensure the output directory exists\n",
    "        os.makedirs(output_dir, exist_ok=True)\n",
    "        print(f\"Output directory '{output_dir}' is ready.\")\n",
    "        \n",
    "        # Check if the Excel file exists\n",
    "        if not os.path.isfile(excel_file):\n",
    "            print(f\"Excel file '{excel_file}' does not exist.\")\n",
    "            return\n",
    "        \n",
    "        # Load the Excel file\n",
    "        excel_data = pd.ExcelFile(excel_file)\n",
    "        if not excel_data.sheet_names:\n",
    "            print(f\"Excel file '{excel_file}' contains no sheets.\")\n",
    "            return\n",
    "        print(f\"Loaded Excel file '{excel_file}' with sheets: {excel_data.sheet_names}\")\n",
    "        \n",
    "        # Iterate over each sheet and save as CSV\n",
    "        for sheet_name in excel_data.sheet_names:\n",
    "            print(f\"Processing sheet: {sheet_name}\")\n",
    "            # Read the sheet into a DataFrame\n",
    "            df = excel_data.parse(sheet_name)\n",
    "            \n",
    "            # Create the CSV file name\n",
    "            csv_file = os.path.join(output_dir, f\"{sheet_name}.csv\")\n",
    "            \n",
    "            # Save the DataFrame as a CSV file\n",
    "            df.to_csv(csv_file, index=False)\n",
    "            print(f\"Converted sheet '{sheet_name}' to '{csv_file}'\")\n",
    "    except Exception as e:\n",
    "        print(f\"An error occurred: {e}\")\n",
    "\n",
    "# Example usage\n",
    "excel_file_path = \"/Forbes/Forbes/forbes_raw_data/forbes_list_sql.xlsx\"  # Replace with your Excel file path\n",
    "output_directory = \"output_csvs\"  # Replace with your desired output directory\n",
    "print(f\"Excel file path: {excel_file_path}\")\n",
    "print(f\"Output directory: {output_directory}\")\n",
    "convert_excel_to_csv(excel_file_path, output_directory)"
   ]
  }
 ],
 "metadata": {
  "kernelspec": {
   "display_name": "forbes_env",
   "language": "python",
   "name": "python3"
  },
  "language_info": {
   "codemirror_mode": {
    "name": "ipython",
    "version": 3
   },
   "file_extension": ".py",
   "mimetype": "text/x-python",
   "name": "python",
   "nbconvert_exporter": "python",
   "pygments_lexer": "ipython3",
   "version": "3.12.3"
  }
 },
 "nbformat": 4,
 "nbformat_minor": 2
}
